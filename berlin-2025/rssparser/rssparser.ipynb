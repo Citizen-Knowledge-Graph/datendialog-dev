{
  "nbformat": 4,
  "nbformat_minor": 0,
  "metadata": {
    "colab": {
      "provenance": []
    },
    "kernelspec": {
      "name": "python3",
      "display_name": "Python 3"
    },
    "language_info": {
      "name": "python"
    }
  },
  "cells": [
    {
      "cell_type": "code",
      "execution_count": null,
      "metadata": {
        "colab": {
          "base_uri": "https://localhost:8080/"
        },
        "id": "H62Ye8Sp_XIb",
        "outputId": "d05d48bf-2fa3-45ce-a64d-372174e907fe"
      },
      "outputs": [
        {
          "output_type": "stream",
          "name": "stdout",
          "text": [
            "Requirement already satisfied: feedparser in /usr/local/lib/python3.11/dist-packages (6.0.11)\n",
            "Requirement already satisfied: sgmllib3k in /usr/local/lib/python3.11/dist-packages (from feedparser) (1.0.0)\n",
            "\u001b[31mERROR: Could not find a version that satisfies the requirement pprint (from versions: none)\u001b[0m\u001b[31m\n",
            "\u001b[0m\u001b[31mERROR: No matching distribution found for pprint\u001b[0m\u001b[31m\n",
            "\u001b[0m"
          ]
        }
      ],
      "source": [
        "!pip install feedparser\n",
        "!pip install pprint"
      ]
    },
    {
      "cell_type": "code",
      "source": [
        "# Initialisierung\n",
        "\n",
        "import feedparser\n",
        "import pprint\n",
        "import hashlib\n",
        "import os\n",
        "\n",
        "url = \"https://www.gesetze-im-internet.de/aktuDienst-rss-feed.xml\"\n",
        "\n",
        "pp = pprint.PrettyPrinter(indent=4)"
      ],
      "metadata": {
        "id": "NjlV_OlKA0OG"
      },
      "execution_count": null,
      "outputs": []
    },
    {
      "cell_type": "code",
      "source": [
        "# load the local cache\n",
        "if os.path.exists('cache.csv'):\n",
        "  with open('cache.csv', 'r') as f:\n",
        "    cache_in = f.readlines()\n",
        "  cache_in = [x.strip() for x in cache_in]\n",
        "  len(cache_in)"
      ],
      "metadata": {
        "id": "IM9CwgiNVcOo"
      },
      "execution_count": null,
      "outputs": []
    },
    {
      "cell_type": "code",
      "source": [
        "# load the feed\n",
        "feed = feedparser.parse(url)\n",
        "\n",
        "print(len(feed.entries))"
      ],
      "metadata": {
        "colab": {
          "base_uri": "https://localhost:8080/"
        },
        "id": "h_I4yEdmMOsi",
        "outputId": "edd67d5b-d0b6-46a2-8249-e8eab0e0c600"
      },
      "execution_count": null,
      "outputs": [
        {
          "output_type": "stream",
          "name": "stdout",
          "text": [
            "248\n"
          ]
        }
      ]
    },
    {
      "cell_type": "code",
      "source": [
        "suchbegriffe = ['Zwölften Buches Sozialgesetzbuch', 'Zweiten Buches Sozialgesetzbuch', 'Wohngeldgesetzes']\n",
        "suchbegriffe = [x.lower() for x in suchbegriffe]\n",
        "\n",
        "\n",
        "test = {}\n",
        "\n",
        "# filtered_entries = [entry for entry in feed.entries if hashlib.sha256((entry.id + entry.summary).encode()).hexdigest() not in cache_in]\n",
        "filtered_entries = []\n",
        "# filtered_entries\n",
        "for entry in feed.entries:\n",
        "  for s in suchbegriffe:\n",
        "    if s in entry.summary.lower():\n",
        "      if s in test:\n",
        "        test[s].append((entry.summary, entry.title))\n",
        "      else:\n",
        "        test[s] = [(entry.summary, entry.title)]\n"
      ],
      "metadata": {
        "colab": {
          "base_uri": "https://localhost:8080/"
        },
        "id": "KZyOe4IxCpgG",
        "outputId": "78f4cb31-12cc-47dc-99b9-68eb3bd5d917"
      },
      "execution_count": null,
      "outputs": [
        {
          "output_type": "stream",
          "name": "stdout",
          "text": [
            "wohngeldgesetzes [('Zweite Verordnung zur Fortschreibung des Wohngeldes nach § 43 des Wohngeldgesetzes vom 21. Oktober 2024', 'BGBl. 2024 I Nr. 314')]\n",
            "zwölften buches sozialgesetzbuch [('Verordnung zur Bestimmung der für die Fortschreibung der Regelbedarfsstufen nach § 28a und für die Fortschreibung des Teilbetrags nach § 34 Absatz 3a Satz 1 des Zwölften Buches Sozialgesetzbuch maßgeblichen Prozentsätze sowie zur Ergänzung der Anlage zu §§ 28 und 34 des Zwölften Buches Sozialgesetzbuch für das Jahr 2025 vom 18. Oktober 2024', 'BGBl. 2024 I Nr. 312')]\n"
          ]
        }
      ]
    },
    {
      "cell_type": "code",
      "source": [
        "import csv\n",
        "\n",
        "cache = [hashlib.sha256((x.id + x.summary).encode()).hexdigest() for x in filtered_entries]\n",
        "\n",
        "print(cache)\n",
        "with open('cache.csv', 'a') as f:\n",
        "  f.writelines('\\n'.join(cache))\n",
        "\n"
      ],
      "metadata": {
        "colab": {
          "base_uri": "https://localhost:8080/"
        },
        "id": "7XPNWrDmF3AD",
        "outputId": "cb6a4f6c-a72a-410c-ef8c-17131b9b9a36"
      },
      "execution_count": null,
      "outputs": [
        {
          "output_type": "stream",
          "name": "stdout",
          "text": [
            "['fa3d1015c32c42b4d6660ffe0f85ac1d61cc1960ac1250f6d34c8894c32d4181', 'f03b4309fc721c9c6a4f9c6655f9a4b299accb8788d185edf452e003ea67a440', 'd26f91fb601d84b7d4be3251d489869ff07ecda17f8a17e56ab1596074020eb9', '912af152966a9fa744415f8847182d81f586789bd0f2fa17194bc572ba019c53', '3e6907869b94e9301e44d20c2b94e295262de08533ebeee6dda5c45f5884e6e1', '56cf7524e313ce1d120f8240665e2058c36003368188d17ea9981efc0bb1f67f', '61464940c14fd4b571a79275d3a66ead0f81d444070e63829a4e8fe0c5181dc9', '04fdd860d4875f417cc808870cf2c23d917a6ff466d14a09f2604a69c7d84de3', '6e996b5f727022ebb340adad5d43775d8572e08fe0544e40bf3c2922112a35c5', '5263c75eed7ed476ba61e8a4f7f733500cd13b5ffe94fea6b37cb6c3dd6a0237', '98f5ab2f0d2e78e23b086922fa50543b885c0c9e367752ac60d2cf8b2af39911', '2a83a7f562ba798ef1becdb6fd2a7f9a261c8b21e7f197698b097e4fe07d21ea', '7e95dcbe034d0e5ae8989cca1a7fb2b9fbf8f1c96b2123ec3fd67c9b84962d58', 'f3048d0a26822aaaadda544c80d2e8e2e097d0082e616160213b8812adfccd98', '6e69650162ceb5af5daa114d11d8cbf40ef0e0a17bf5fbafb6ac694ca9bcf777', 'dadd45e9676947d0bc234833d040622f9de2036245a82f847ae52a9d78c3d99c', 'd45a3d4c11b191272d776c71363398846680d59b76f2a035008454aa092b51c2', 'a9b6019e3a2d7ebd336805587dd8f3be5dabe0a828b95e000cac123afe603592', 'bab907d7f522edeea67090f6b3bb22873f74d52e7b94ccebfcf0ac736ff1acba', '2ca93a36254a2737006bf61cf105fcaa5a5e5a65a382a863045beef4a134b3c5', 'f25e6f65b7550b933d4617f014bb959be8c7cc211689c5a942544e5328e67a88', '4cb467dc5309f6ae568be864a9cc82903b7af985f232efd941a79c9ac0e9a0a2', 'd5fecb4c91fad919118c25cf19de0e3f5b480cb4bc31ff428daff75b0a02d7e1', '7514239e49fe68c336342322130a30cb3b7134aa6d20ba44dd93e6d1fa2ebc9d', '88371ad65117df31fbe7a1903acded44e028490aa1600554094ffbc15451441e', 'f1c24c899e93c4802993012ec46a3124ac3d3f6f4e99f15b46a8a4f46991f6a6', 'effd1d0f4bb83ccfc3426e7d32d4186735e4914f707d2bf15f71fac72ee08a5a', '813fc6618f909ba164f95f264bc78abd50583034b1f319433793d5c1cfff8369', '7a524bf2489b93a8d779fd255497477e39a934a4f1462260f44fe9674488c341', 'f2bbc629ca9edbb44df45583cd9840b0a681e9c85a81da9fc312531694ac25dc', '4ce319777c40afe88ed54610585a47961332ee29c5996c7e6a9404fa474a092d', '950355a974a8d38bc67c2a9645a74ab2fd0df2d74658550854806d33e6ed09ae', 'a4d1ca16252b21f52a4aafb75e188891c8225882ef51590cfb97b944f3e4cd47', 'd0f3a7d3c341d62e73c0bf04a2ca6e4a9ad8f3908930a865331aa6faa47faabd', '88b34876468e8dc7943dc65888bb87972a7fed42104e6e302360c0ac9c9fb244', 'ba3c733bf3851715247c51614d89326efeebba0fe3624667271285d0272bd181', '7e40bdac61810f0781c784ed03f808350029c56614807c298a2ff9740870c546', '0ae279f0836ce1c4735475a5cc6ca5bc1f5565ee04a8e210418b84e81f2bb51d', '3182b387963845f1008e09446200f01331c07d41f59f9dc0f5571ba2c2888531', 'e6c37810b2b6d1fd31d8c353cb317fe325275dccbd59efa635f3dcf883869d42', 'fa5f1354860c81f77eba0625b82f454030bdd2d50d3abe70ed929459bdea6ee1', '2f30f53facab335ca82801d6e2856f3f138a2469948f8c74fb85b7cc1d899105', '88814a8771d1fee25422314d02c440f38bf5474dbe26d1356b03ba4cb3891e3a', '7fd8ffb47d51964446b8c2169c237654aa8a3555ada341fc9aac65401f7c0c3b', '5c933aadddc30f67440566df4b9253ccf375ff0ff740f2096de0424cbff5e29a', 'eea237d00a2be39e6cf02bd1ec10e2fa2b2050d16e00115c12c32197c1da6c0c', '1931c086e807a0f30c4fa0af3c20cc3a2ac0ad0e363d73cbac61c9ac16cf45a7', 'd873a45c749bf06026bcdc07785b01e3fc4cab12bb6296cc29a03a9930b1fe81', '46680c332b1f25245139394f5e32b9533267f96fc555044648d768c286af9277', '44aff0e75f80949cff0d278df07506eb6bb64b66d6f6f27408758f243784f2fa', '61eb9aa707ed346a5a93cfb4fc6dcd5db54baae2dd2492600a8c33ed0dd0d35e', 'fea5ca29c6e65b5eb3b35247c2e9fa0d9d737171e8cc8bb2d2dca490bac1ad33', '75e106428fdf3db7210cd544b7d60ff8dc063d692cac51f1377451b0eb430943', 'ec943de04f82d01d33dcb98eb53d21497bf6f7d61339cf1a4dc8a2eab00d737d', 'cd90d89efaf369f3b45ae6aa1c054906eae13926f3f2ab59c5c3330187ce32e5', '5a2fcaeb7ae68ae60732050191e710e864f0885e4a31a6a511005fe872dc9ae3', 'b2765ff28d2a605b01c4502f7cd14ef776cec48392cd62fac5b36d16a263434e', 'e8c22061b39f364dc981f14daf07d391b0ab93648b54628457342b668f783ed3', '651ce32744595b1bbe14376bac055c45ca2809d92e83a66cfae183b898ba6668', '63c946e306bd9a1f7759a456300a8cc30d8bea50dc76b4b60edf9b290cc85d4f', 'b625df22f274f814e2d3e3b7e5ab006b2313982251a318e24ed8f43f14c51e74', '2366d323916c7b87eeaa9446a952cb9abf98818e5ea7eb0c93c6d907e3933330', 'dd9f88d96fd9b289624e3043a6164b6da064dea3d3a2828dae6c7625ba32e658', '7d234b7fd680a39916c2ce184a32c905803d24a742a92278f6fa4c41001209cf', '79f116699fbd0935b04b375563c5e01700176e46fd2297ddd0957f9d933e35d2', 'e78e253bdb3a03a0ac5fa47484f97347b33da7b5e9ae1480b1c4d64ffddfd152', '69ca0b2199e54887674e72029fbed14a5674d1e9ab84bd4efbaebe9c945a777e', 'a64d585af4a9e84f4a525dae8a2f7fe74f54c0443aee5c2cd34d560426ef506c', '3417aa0fba8e53ebb7659347a84391832bd14743823a8497c7c76e04b8b4f1b7', '86088c766a7b730f437c7291b01ab3d4ba0937695ab5ccf2f1dfa604515a6ebb', 'b6a0cd9c3f04ad4c626eba074d5d66cb6f033dab3afeed2d5cc8d909e925649f', '6178ec74115bb62915bc89d635db54387982f586c1765b74ca3505dd4a64f114', 'e9100031713c4e9e3a3283385a165cbf75724c6e2eee8ed48a1669065dd8e491', 'f8ecc5ad6ffbcf925bba153bc7989cb2f15a36bae1996574aa55c275beca405e', 'a838b85ec19480ef9a93f9e1bec6941b6457ade8727bb58e357d952e33dee1d0', '65dd569b7e069849303edb7033c6f02a3df22c031a5a20b230af009ee42af357', 'b2dbeb15b29e2053716b55fef0018c8889753c9dd8af2b5fea64e9d074f983f1', '15daf27aff3756232611f09221cf46d1909a3b7d0dc0f36611c6ed36275dde9d', '1005ffba252dd07bbd1a10068a81931d52159fce7dc08457ea4351709760ea44', '90154daa31f0085ed7c6bc46bf8927732b7fe30fb795c63864b336e8e92b80a0', 'f65fe5fd9e645051cfde2e7589bafe297d537cbe0639745bdf95c716818b6f84', '0d0b265aa499a5f8a50dac830970750bfdbc4a023b1868b6dab627a8fbd97973', 'f3bae264057f551301d72dc732db50808fd13e24982197c2717f538ad0392cbb', 'e4e594f632af9ee0a8870cf6b534c50bd1b2f41e564e54ece8d3bf37ab0829c1', '0324b9ec78a8d7c9f83271f18a6d0dcdae25ab2695cbd424a07ee975dd7e0068', '319da804a4a8818c16c870d4c38f49ecf93a932330deff1fdba95147d63ca52f', '8725fc249eae65221bdc6a6d9dd67270221f52aa836d183d5af9415876fd19b5', 'a0381a7e9f4472e175d802907bdca1ccd63a99c015b18f48742d3e0e942c59d5', '2839c57ca4d94977edf407321c6cf298ef8d7945cb83918df429636037995152', 'c539b457bcae74a421329711e61834bff0b34074b3cfef0b60c464324f1cacbd', 'f67d8ff53a32df1fd26d180d93d03b65cb6227845c401c48684cfd3ed460ba27', 'dc84c15c65df95e9f326e3a4194f1816732aff52f2d9210eb5b93736bb75d888', '8aef2350f64405da646a79d28fb1b240e35e1a0d6e9b324de89d3b6ab02a23be', '612b38870359539b52710ad84077eb3ba422438d9f98b235851a7185643fc3e1', '830f75f25bc848837032d71bb5a311050882f1776824389f67e9426eb8a97278', 'd14f9123ba6d9df9633f94c8f931470381b71ed798ae97609ec89b7bea59dcad', '0c46c4bee1ce1860f5f3910cd3c77dd2b9afb797c2eb46a5bef157335eaf2a04', 'f9d62e755d9bd949c75e7938d4d6c95a63206ef145bfa2b7e2e5f300ca436094', '3c0b151029e3187ce36ed4becf79d529296d60ca86de6352db73e9eceea141c3', '8229d2a9c97c9bbd46cbd5308990b6d6f096847527b37671a44fff1e04998847', '9ee37071e4a02d4e66035a6328ffdd730396b46eb0262fc058b0b0ed8eb20b56', '3341aa434145ba2df143419747cc2b4b22a635fcb78df54ce82d97db4c29129d', '3c4a7028b3b1f846a8ed217de7e784fcea6e652c1886cd2157642e5a94aa3b0a', 'ffb58519a1aa549af2ca358569118fef2a5e6408cf3a7fe515ccfc8759339ee4', 'be360bccdc09dbea486a9e65c0fac46580fa120b77a761d38bc8b7945355b45e', '5ecb46f4a2e36f09bb1c63a8275fa45399bf483ac000f8fe9a6c721794a191c6', '775ae7fb32ac44573b45840e799d5c6763817b74c09e574636df70060cf296c6', '7ceb2cdd9d8088667cc133ba2d2ee6103a31bee248f99043e934a71cebae798d', 'a4b436b4ab00242cf67ee0136f5209d7356f685e65d1da536613d70fb96453e6', '797b2575335a16dade741330b8c30b8377654681e9a5a34d7f956d1a3ea129fa', 'b5f30a708ccf6bb8e44641330a2c7ceb71cb6a449369677c1f75c7a6199f8a47', 'fdc1c61e96853490834f2886df9b31ac1b1ee44bf1ff837183893a1a88a78c22', '533f83ad80ad566390e7d2767ea042915ea7ea5687bfaa956bef57b4746419df', 'c3b9e82e10f24e21e10c49c793b43097d631f7e420311f8b413c9fd91dba8e2d', 'b4a168336c62e283efc876521fc05aa0fffac2949dce8a255837b680771c1d93', '154515816100b7584ccf0201ae9b3e1d139e19ac016f54560df249c0d62ff382', '0b53e23fb8e7286bc91116c94d0b988f87847dc5939728c9951076af9f020bbd', 'caa170d4f27fa1ea7e77a9bd10339fb92b280c3b066b228236d341f13982e3bf', '19c158cb43b6f550d460a74b9fe32005706431532671d9d19cec528a8c4a5389', '6757fc5ce73e6628ae76751ce02fbd7fb11871e488d287e0109f59da2a962c10', '78cde97bd87d92b0b4d8db809b45a86f68988f36ce499b50b4dced9da999e045', '8fecbc633f91dc3ffd5ca2e2633be3bcd7e61c62e0d7887d1a48b5ad27d185e6', '8032a920a96ce350116b055eb3a3c2c3267d282006e183060cc3206dbc1ea2b8', '7a18361a39028ab191cd3f9f7357a4a862b489285038b6d80eeb72c3d4dfac89', '4d235a2cc6c5530ae0adf4d0f7f8d47b9dde926d4ee93e08b5902a9858ecb250', 'b14a5e27f5332c392f169c88bdad5721ec208a1c9deafdbcd57583af391f4081', 'bb9e0a9bbf3673a2d057c3eedce6223a4b8ff70c770f6c5ca28199a017fef635', '704e0200f0c5e5cb72ba96c7d161bd4a2e7607ac430a45627604628739459305', '8d64cbda08dceb24cf37aab83de1f89e1b60fb2afd2980b441cf120e2a22a3c8', '32ca596eeeacdf675530142dad39c5d3e41a58b929fb2bf4f5b57e2ede75b67d', '664be852739f070531d58bcbbe19effbeac229ebc703c903fe49e95ce511b1c3', '2899416867ad32d055e80a2a451088d9ac8307309d9c14371d9953f6630b2f89', '3464ae43c1e2f71851a64820dfd07efb6bd87c0a8ca710df7c43ff38b7e5bdf7', '7803fa0d2394c17309362d801f8f2596afa0f7e2f483a2ecf3e4f9460908babe', 'db222d5225c6f7661d73456a1109c7a2d0105198e812417eee4e512125023a11', 'ded432be653bbc71a509568e3c0f565ff54553d8d3fc94a2b24f3a08d3199771', '685223306368d7836b5afc0b0669947918e3441c03bfed5b3e45964c77986334', 'f0c9985bdfc05b7264e9740ee6482df4a755b90b1b1ae2c747b3e09c267ec7f2', '2d2d522a7ba304b417cf12cdf0b7d72df0504d9ef3bb3e3299c38e2427756229', 'c843a68c751d1caa30805800d2074125ce6025420f8db88895a7ea2fedff8def', '9ce574031dd7e1b473ac3995e5a73944bd568bbae9be126a5f4d319cc68c9cd7', '58725014b844b315af88f66c7854bc0ec76891c38dd4b37c8225f782faaca9b2', '35d74f19dbcd98a4fef569827c80e6dcba572226f16f1aac6ddb326173c1bfe5', 'c4360bb4b3bce7876736d54a4ffb1815eba9a235f5f09773c1729a709b762424', 'c4360bb4b3bce7876736d54a4ffb1815eba9a235f5f09773c1729a709b762424', 'a5ee0214863d302e7c95b0438e93555f8965e908c25382eb4ec8331fd622bd84', '5ecd74cfb3152a0164de1dfe34ef1c3114478b64f2082ba2c8c005dc1e811f6c', '3a6b0737d68f8303ed7c14aa5ea8f893f35c0050bb46a21a4e020a8fb1ebba52', 'ad818e3083d0859a432fa420a5cab60bb4bfb29e395a9dfa4f64eb980566dfcd', '79e4a85bd96dcd09b361eb7e668eecf6cacd0f7611d12171026b17a265f1692f', '35bc26b10711dd615d82ff8f736c11abf73fdc3e88fcf8a7b255877c5a27106f', '260b5769cc2d56a34d7f6506981950e6a26af9c47430d1dbf5992f414453e0b5', '124f61b61f87c0f505b795cf0032ed77a7a4a3f27a682c330d33f45406b45afa', 'fd5d0e502bce9a522229af4e3bd3c86e17e9626ffc1b1cc6e96a69f31c7353c7', 'c7de62cbb83aa723b2354079e28f57e4d355ae9c84cf1bf41491caf8b62847ea', '3002a98975d64dca0058d9e150684ec673adc8050f7cc61465ff4bd80b14e3ef', '0bd1cc7f1b9057219f7419736b2b4787a3e37ee794779479ac5677431b4eb0a7', '22359d1c6674c553af836a7799a51632ecc96b4524780eb47bc5735748ab92e2', '981c002451186f06aaa4153af45436ab17fc640e864e846b75ef08161fdd2056', 'd7a7c161fd7fef3b9df31c013aa89c1d0f0a63ecbf837d23c75e7d0a5c63a1c8', 'acd1bfaff3a8f0d7abdb2dc18dc57c0a55ed75280f4ad7da1627e4148dfc0002', '83b8be7ffc9c199c8c0531d25006231de0866a09af1b17f6c6e765eeac626cf4', 'd31e868dc1f8069e523a140856067dd314ab55876bb2065e7afc90ef7e9aa12e', 'c1bc659b8672ec354dc23ba04be04ac9ab0142e240769d77dc0ec07ba4c6c864', '419dd7b32e7d94dfbc0df149948fad82782f55d54eef5e1412455e5689e99fa4', 'e32d80d1342160cf30e72b272c4cb118eef04b628ed4cd269a12c56c7642d701', '8d375b43b7d2c81fb2bc12fe8c78b90d1d3846b7ee139f952668957315a9ef34', 'b2879a6367ca958a8b7cd1f558127671e76ceea22229b00e2ada4b9ddcead528', '03029beffb58b73047e3dbfa81218364525edb0d9ac04c5beb6963a78df9ea4e', '12efc67893ed7a15a1213d6b32c5f4b237aed8e38464036e63e462cb4bab507d', 'cb6c0eab6ff627e3c9a13761e309df51a15b53071bcb79868d3e7d905e6ef0cf', '548aeab83d96c3e4b7b442a69d823689108ff9f2c7efa8b13d4df6fc26e4e7e6', '7d1f3b4644b2ab803d993199dbe8dd0c2f84beea46c7fe9b01415b2a33cb1d50', 'f3a4ef88b2492a24befd93275f18f20df85406202024324f06f852f73de3efa4', '99d88fd8b06e622040f8eca94115c454b8d74108ab3e3741878682af8e33d684', '13c32453f4e230c8b4efe39d29ecaa42b5446d78cd0dbe78a02a5320410cfd06', 'b70b8f6a51d1ec455174cddaeb6b4de83a1d892df6d51b26dc050a1bec1e16da', '567e8fb08cfc39dc6db2fdddb5a81917ef49516930f1c25afbcc6310d634f745', '0ce8d684a19f10be7232cd08bec3bc4fb368b9e97bce7196b177bf65e46d95c0', '9723704461aba8577cb8530fbbd31180d218a443212214099a17b9abe57c6642', '9ec3a39d67f729d743167df242c70d0cd3191736ebf061395c2fae09125c2e6b', 'c11201f6b7e267ae181ed7857793d355e255c605defb23b35e29d3e9aa735911', '3f21a2102179c079215a3ca5ccbacb612623cadab11c8c065355f283a60664ed', 'a90d231883e7c2481ea325d42c0c8e7fb7bfd766da1a4d984d206a72510d0767', '7b00bd24c15b3ea43cb443e636c6930324521f46fb564d8c93dc6910db441a96', 'a676bcc12906cb559d78ed2729e78c727ce760d6859f45b4eb2166bd96851b78', '79e50b911a1ea2550f357fb4ab4e609cd18301070469f4145b0294daf016e6ec', 'c5b779db5354211d9215f568b3eff8fdcd5d519adbb4c795338cd756001670db', '7e4fc216346f480ccebc84aa0ee8ad37011b8b938f1a46409127881852ab31fc', 'e77486213b23122854324d096e4c05f2e6bdc7b230048680a20f76736dcb6b21', '6a66254715343637956dfca7426bc8eb002f2bba85766156514023a7d90ee5bf', '1fb60f76c32cb9f72caef38135a8474bc1464c223caea5ef58433c7954e015d4', '9a2ef0e43a5829df06bf16a787dfdc67ea1d54fc04589ca498310d9d83dff3cd', '11e40f7b72576286b460a4c69d0969bbfd7712f6e2770d7a312c4635707396f4', '12cc130fc4e3e40ec6acc60cda6ab4d9288e1b802b1059fdb4c5272a50517dc4', 'f5acc9d21a49100331126512ac9efdd8b27d762ff787d59acd83ea7bddb71362', '993a424265447289d518bb2d5f981c187d2a0b03115ba491a3294da43ccefcd7', '699ae9a728eb96b73e6d96e4a44cfdc196fb9e9803530a0bb01f2ed4b207d2ed', 'e0a745e3fdfa9f3870f4847a8376838cd301e98305bef49b4cd43292e34d03db', 'cd066addbd4f55c351d4ed3ccdb35a97a04f2208213e4b3481f00bf34212337a', '05930504a3c52e4854fe07d8f76635127666e6cbf4abab951c9ee412fc7a8598', 'd0cc777dd0809da2901cbed83246e5c8c95079f41cdb418a3aa2512aa91eb2eb', '83eb323fb7b5831e3a47c20974df80c9683ba34abd138a61710088ea173db952', '356903f263af586289a8e58bd0e0ad912ee6d4eda244fc7e787a23081be59a1d', '06e7d9296a72bfc342fef41e27a544ea4faa02d9a5b106242a25fde3b67f5ae6', 'ae9575cb5aec74af554237fd6efe481c68e8c214b4797ce46beb93ba65b55ae3', '1364f0c2cb643033214fd8d1fedce824a13cf7187e16f92649843c2fd1cfc746', 'c2029db7a17b064c3d9b6d55293dd971898098e8960442e85dc15c52b49e5cb3', 'ec6482507789415ed71b90da5ff3b269908c41075e46f45b5fc21bc4bbb6143e', 'e660ba812806d4d220366f5b7fb70a5fb45203fad40caf2fc77a89f05b0de321', '674ccea244547e0e3880ace33faf7d20911cb8681a02fbae99b22354e3a4c405', '8050e1cad85dff907aa744788b0f5f90aa1d7c810463ae627e60a6ecd1138a23', 'aff8403394610f7a9dad4c3ededf4140c6157a5ede1eb371f22ef96316e2e428', '86cfbea0876ddd0ec8fc19402357df6dfeeec0247c804305fd72bdf12e1e78ae', '7204cf6e797b4a85f9a9153cc5db231c876137f03c526fbeae7a18f28b6900fc', '218bb5daee111383faac9aee56288b7e686f01911ac999ec8af2b9b0bb607ae8', 'a86de15c89363c7eb68a295d447e9ee83b6a082894d3889748c30767ef24f964', '6a95032c4956797759974b81a405bb7016f3be9bf3a907a66495e2ef81b38f69', '477d2b364366ed4c5a18dbc839c879ddf6d248c4eacfa3715edb5f3bd5680d28', '73cd9046943a4516e310905b2557f84b05525afe381cbdb01fd93bb70b56bdee', '1e39a3791811bd3f987f39b5f1e984cda6461d3c6fb24420d643b4ea7b59badd', 'b6a4e935068f1220cfb1257353a03f6adb85f245708cce2144d8c63a9c6ce046', '86df8493835d5d4965262b7468f7efac2b155920e99a7ff93ab3efd1d03ced01', 'aed5430d535d23fd3629b4477ebfa03346ad8f8cd88ddc59400451b642d3b46b', 'c8c30c5373b16290ea6053c470e714e61b29ec720f6c81a56d36dca3f97e2734', '14d1e6879db8e064df632b2a6b3badd59e325b3e0aa1bf23be2f549a93d0752f', 'f61f96323c0fafe4e7e6b5d3f97e446146fb2a5f1fca33bdd2bf4549c9b5c748', '25c1eca9bd632c7fb21f7b8ed025e998d19e6fda75e3e88b3b92a95cfdb19065', 'a253f71e3ee055b18cbe380465f48f5c7a6827172cb260a20c18d16d4a05bffd', '0c4374e504184145d09beaaa6472e9f5bc7f6c9602d83606683cc6d17452eb27', 'd6ddb742549c88228a03f26e5ef900777d07e4b3b8d9fa6d4f477f7f283e948c', '8681437417aeed6aabef4277fd043a0d795e044fd891d0823e2fbed245873814', '222dfc66c654af7ad717d214e7d8a9dedbf02ab035a7972c4ff47e86d0aa3b00', 'd0d8730c50b06f3aa682dcacc93748c80dac3125d4d862739818ce2b163e7f3f', '46398bcf3036a0dd3c92a2270418d523f292df9f151f8a77b8daeff5ec5c7909', '6e2b70aadd674a9749f9f847d32633c2ecd92903013cbec85bdee5fb54cca02b', '5e9b8148a2ee8db69a6f428b274c2da21c9d40b91866c72cda9fb662d94806d4', '1e7194ebf036731ee0bc28bbbb884a4e0c850b4a0db8626bd6811facb9d19091', '5d4afc7a030725819c069d7c583047d98a27172a70aee62f1dd92b98d5fa3c50', 'a4ae32357f43047a6d44b40c9d4b7882263d97a8d5fb95af3d24dc0937c3484e', '58194988cf35dba081627068a0fcbfe8b8ee52ebff3d9ed9273a03b6658a7d05', 'a07268dbde4e13e7ef6146540e4ea1312dab4cb362149b87014f2a14aa968d4d', '9c974880fbee8d0cf0bf745ee3b08d602b4e01efd0c606e5467a1240d39b1712', '6f3f9f1e6c0a067882c08d6bb3477ab0b056e5d1d3e61a863b673a4f9c2f0568', '99b8cb25dad6530264a548b12484001f6b60a304a1ff6782d385a872b7d9bfc2', 'f299e2c9074f7103b49ecc411dc175a146ef535cd58715dc7cc6efbb0ca23dba', 'ea1a85737d2d173cc3a53a4c8759f6640628ac202d42951ca2448ff9524e60b9']\n"
          ]
        }
      ]
    },
    {
      "cell_type": "code",
      "source": [
        "\n",
        "for key in test:\n",
        "  print(key, test[key])\n"
      ],
      "metadata": {
        "colab": {
          "base_uri": "https://localhost:8080/"
        },
        "id": "W-TChL4RN6Xi",
        "outputId": "92ce7288-e3cb-4a30-c867-a3a3c9bdd49a"
      },
      "execution_count": null,
      "outputs": [
        {
          "output_type": "stream",
          "name": "stdout",
          "text": [
            "wohngeldgesetzes [('Zweite Verordnung zur Fortschreibung des Wohngeldes nach § 43 des Wohngeldgesetzes vom 21. Oktober 2024', 'BGBl. 2024 I Nr. 314')]\n",
            "zwölften buches sozialgesetzbuch [('Verordnung zur Bestimmung der für die Fortschreibung der Regelbedarfsstufen nach § 28a und für die Fortschreibung des Teilbetrags nach § 34 Absatz 3a Satz 1 des Zwölften Buches Sozialgesetzbuch maßgeblichen Prozentsätze sowie zur Ergänzung der Anlage zu §§ 28 und 34 des Zwölften Buches Sozialgesetzbuch für das Jahr 2025 vom 18. Oktober 2024', 'BGBl. 2024 I Nr. 312')]\n"
          ]
        }
      ]
    }
  ]
}